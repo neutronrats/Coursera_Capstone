{
 "cells": [
  {
   "cell_type": "markdown",
   "metadata": {},
   "source": [
    "<h2>The Battle of the Neighbourhoods</h2>"
   ]
  },
  {
   "cell_type": "markdown",
   "metadata": {},
   "source": [
    "<h4>Problem:"
   ]
  },
  {
   "cell_type": "markdown",
   "metadata": {},
   "source": [
    "<p>The Saleh family has to relocate after the mother received news that her lawyer's office is moving from the Island of Montreal QC to the Island of Manhattan NY. The stay at home husband is excited about this move but the 3 children aged 6, 9 and 14 love Montreal and do not want to lose the lifestyle they are now accustomed to."
   ]
  },
  {
   "cell_type": "markdown",
   "metadata": {},
   "source": [
    "<h4>Background"
   ]
  },
  {
   "cell_type": "markdown",
   "metadata": {},
   "source": [
    "<p><b>Montreal </b>has a population of 1,704,693 with a population density of 3,889/k&#13217;.<br> \n",
    "<b>Manhattan </b>has a population of 1,628,706 with a population density of 26,821.6/k&#13217;.<br></p>\n",
    "<p>They are both multicultrual cities and great places to raise a family, based on crime rates, schools and family friendly attractions. They also both have lots of greenspace and good public transportation.</p>"
   ]
  },
  {
   "cell_type": "markdown",
   "metadata": {},
   "source": [
    "<p>The Island of Montreal has many family friendly amenities that the Saleh family routinely enjoys. The Outremont neighborhood where they currently reside has many parks and attractions that they do not want to lose. The mother has decided to find a similar neighbourhood in Manhattan to move to so that her family feels at home in their new city.  "
   ]
  },
  {
   "cell_type": "markdown",
   "metadata": {},
   "source": [
    "<p>The mother has decided to find a simliar neighbourhood in Manhattan NY so that her family doesn't notice a big difference. She is getting help from the resident data scientist at her firm to gather the data and present to her family the ideal location on the new island for them to reside and go to school."
   ]
  },
  {
   "cell_type": "markdown",
   "metadata": {},
   "source": [
    "<p>Both Montreal and Manhattan are very diverse cities. The mother would like their new neighbourhood to have similar schools for her children."
   ]
  },
  {
   "cell_type": "markdown",
   "metadata": {},
   "source": [
    "<h4>Data"
   ]
  },
  {
   "cell_type": "markdown",
   "metadata": {},
   "source": [
    "<p>The neighbourhood names in Montreal and Manhattan will be scrapped from the following wiki links:</p>\n",
    "\n",
    "https://en.wikipedia.org/wiki/List_of_postal_codes_of_Canada:_H<br>\n",
    "https://en.wikipedia.org/wiki/List_of_Manhattan_neighborhoods<br>\n",
    "\n",
    "<p>The geocoder and folium libraries will then be used to aquire the location data and map the neighbourhoods in each city. The Foursquare API will be used to locate venues of interest to the Saleh family:\n",
    "<ul>\n",
    "    <li>schools</li>\n",
    "    <li>parks</li>\n",
    "    <li>greenspace</li> \n",
    "    <li>playgrounds</li>\n",
    "    <li>pools</li> \n",
    "    <li>libraries</li>\n",
    "    <li>public transport access</li>\n",
    "</ul>\n",
    "    \n",
    "<p>The neighbourhoods in Manhattan will be compared to the Outermont neighbourhood on the total number of venues of interest. The neighbourhoods in Manhattan with the closest number of venues of interest will be considered. The neighbourhoods will then be evaluated on school ratings and rental costs.</p>\n",
    "\n",
    "<p>The rent and school ratings of the district will be scrapped from the following data sources:</p>\n",
    "\n",
    "https://www.rentcafe.com/average-rent-market-trends/us/ny/manhattan/<br>\n",
    "https://www.schooldigger.com/go/NY/schoolrank.aspx?level=3<br>\n",
    "\n",
    "    "
   ]
  }
 ],
 "metadata": {
  "kernelspec": {
   "display_name": "Python 3",
   "language": "python",
   "name": "python3"
  },
  "language_info": {
   "codemirror_mode": {
    "name": "ipython",
    "version": 3
   },
   "file_extension": ".py",
   "mimetype": "text/x-python",
   "name": "python",
   "nbconvert_exporter": "python",
   "pygments_lexer": "ipython3",
   "version": "3.8.5"
  }
 },
 "nbformat": 4,
 "nbformat_minor": 4
}
