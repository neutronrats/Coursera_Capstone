{
 "cells": [
  {
   "cell_type": "markdown",
   "metadata": {},
   "source": [
    "<h2>The Battle of the Neighbourhoods</h2>"
   ]
  },
  {
   "cell_type": "markdown",
   "metadata": {},
   "source": [
    "<h4>Problem:"
   ]
  },
  {
   "cell_type": "markdown",
   "metadata": {},
   "source": [
    "<p>Finding which neighbourhoods in Manhattan NY are similar to the ones in Montreal QC based on family friendly amenities. Any family needing to move from Montreal to Manhattan or from Manhattan to Montreal will be interested in this problem. Families will want to live in similar neighbourhoods with the same diversity and quality of schools.\n",
    "\n",
    "<p>The problem will be to find neighbourhoods with similar attractions and culture. After finding similar neighbourhoods, the schools and rental costs will be compared. Families will want to pay similar rents and have access to similar schools."
   ]
  },
  {
   "cell_type": "markdown",
   "metadata": {},
   "source": [
    "<h4>Background"
   ]
  },
  {
   "cell_type": "markdown",
   "metadata": {},
   "source": [
    "<p><b>Montreal </b>has a population of 1,704,693 with a population density of 3,889/k&#13217;.<br> \n",
    "<b>Manhattan </b>has a population of 1,628,706 with a population density of 26,821.6/k&#13217;.<br></p>\n",
    "<p>They are both multicultrual cities and great places to raise a family, based on crime rates, schools and family friendly attractions. They also both have lots of greenspace and good public transportation.</p>\n",
    "\n",
    "<p>The neighbourhoods will be compared based on amenities that families care about. This will help solve the problem of which Manhanttan neighbourhoods are most similar to the neighbourhoods in Montreal."
   ]
  },
  {
   "cell_type": "markdown",
   "metadata": {},
   "source": [
    "<h4>Data"
   ]
  },
  {
   "cell_type": "markdown",
   "metadata": {},
   "source": [
    "<p>The neighbourhood names in Montreal and Manhattan will be scrapped from the following wiki links:</p>\n",
    "\n",
    "https://en.wikipedia.org/wiki/List_of_postal_codes_of_Canada:_H<br>\n",
    "https://en.wikipedia.org/wiki/List_of_Manhattan_neighborhoods<br>\n",
    "\n",
    "<p>The geocoder and folium libraries will then be used to aquire the location data and map the neighbourhoods in each city. The Foursquare API will be used to locate venues of interest families:\n",
    "<ul>\n",
    "    <li>schools</li>\n",
    "    <li>parks</li>\n",
    "    <li>greenspace</li> \n",
    "    <li>playgrounds</li>\n",
    "    <li>pools</li> \n",
    "    <li>libraries</li>\n",
    "    <li>restaurants</li>\n",
    "    <li>public transport access</li>\n",
    "</ul>\n",
    "    \n",
    "<p>The neighbourhoods in Manhattan will be compared to the Montreal neighbourhoods on the total number of venues of interest in each category. The neighbourhoods will then be evaluated on school ratings and rental costs.</p>\n",
    "\n",
    "<p>The rent and school ratings of the district will be scrapped from the following data sources:</p>\n",
    "\n",
    "https://www.rentcafe.com/average-rent-market-trends/us/ny/manhattan/<br>\n",
    "https://www.schooldigger.com/go/NY/schoolrank.aspx?level=3<br>\n",
    "\n",
    "    "
   ]
  }
 ],
 "metadata": {
  "kernelspec": {
   "display_name": "Python 3",
   "language": "python",
   "name": "python3"
  },
  "language_info": {
   "codemirror_mode": {
    "name": "ipython",
    "version": 3
   },
   "file_extension": ".py",
   "mimetype": "text/x-python",
   "name": "python",
   "nbconvert_exporter": "python",
   "pygments_lexer": "ipython3",
   "version": "3.8.5"
  }
 },
 "nbformat": 4,
 "nbformat_minor": 4
}
